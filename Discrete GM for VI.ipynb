{
 "cells": [
  {
   "cell_type": "markdown",
   "metadata": {},
   "source": [
    "Discrete GM for Variational time integraors by Ari Stern & Mathieu Desbrun"
   ]
  },
  {
   "cell_type": "markdown",
   "metadata": {},
   "source": [
    "问题1：如何对问题进行隐式求解? A:可以借鉴Lie group VI的文章"
   ]
  },
  {
   "cell_type": "code",
   "execution_count": 70,
   "metadata": {},
   "outputs": [
    {
     "name": "stdout",
     "output_type": "stream",
     "text": [
      "0.5 - 9*cos(4)\n",
      "-h*(4.5*sin(0.5*q(k) + 0.5*q(k - 1)) + (2*q(k) - 2*q(k - 1))/(2*h**2)) + h*(4.5*sin(0.5*q(k) + 0.5*q(k + 1)) + (2*q(k) - 2*q(k + 1))/(2*h**2))\n",
      "v**2/2 - 9*cos(q)\n"
     ]
    },
    {
     "data": {
      "text/plain": [
       "False"
      ]
     },
     "execution_count": 70,
     "metadata": {},
     "output_type": "execute_result"
    }
   ],
   "source": [
    "import numpy as np\n",
    "from sympy import *\n",
    "#from scipy.optimize import *\n",
    "import pylab as pl\n",
    "\n",
    "#analytical solution\n",
    "def Lagrangian(q,v):\n",
    "    #if single pendulum \n",
    "    m=1\n",
    "    l=1\n",
    "    g=9\n",
    "    return m*v**2/2-m*l*g*cos(q)\n",
    "a=Lagrangian(4,1) \n",
    "print(Lagrangian(4,1))\n",
    "#total time step\n",
    "    #N\n",
    "#initailization of the matrix\n",
    "N=10\n",
    "q,k,h,alpha,v,x,y=symbols('q k h alpha v x y')\n",
    "#q=zeros(N+1,1)\n",
    "#initial condition\n",
    " # q[0] and v\n",
    "def DiscreteLagrangian(q,k,h,alpha):\n",
    "#alpha is the coefficient before step\n",
    "    Ld=Lagrangian((1-alpha)*q(k)+alpha*q(k+1),(q(k+1)-q(k))/h)\n",
    "    return h*Ld\n",
    "#print(diff())\n",
    "#discrete E-L equation\n",
    "#DiscreteLagrangian(q,2,1,0.5)    \n",
    "   # q[k+1]-q[k]=h[k]*v[k+1]\n",
    "def DEL(q,k):\n",
    "    return diff(DiscreteLagrangian(q,k,h,0.5),q(k))-diff(DiscreteLagrangian(q,k-1,h,0.5),q(k))\n",
    "print(DEL(q,k)) \n",
    "print(Lagrangian(q,v))\n",
    "solve(DEL(q,k)==0)\n"
   ]
  },
  {
   "cell_type": "markdown",
   "metadata": {},
   "source": [
    "对三种数值方法的试验："
   ]
  },
  {
   "cell_type": "code",
   "execution_count": null,
   "metadata": {},
   "outputs": [],
   "source": [
    "#explicit Euler method\n",
    "qq=np.zeros((11,1))\n",
    "vv=np.zeros((11,1))\n",
    "print(qq)\n",
    "qq[0]=1\n",
    "vv[0]=2\n",
    "N=10\n",
    "g=9.8\n",
    "h=0.5\n",
    "l=1\n",
    "for k in range(0,N):\n",
    "    qq[k+1]=qq[k]+h*vv[k]\n",
    "    vv[k+1]=vv[k]-h*g/l*sin(qq[k])\n",
    "pylab.plot(qq,vv)\n",
    "pylab.show()"
   ]
  },
  {
   "cell_type": "code",
   "execution_count": 77,
   "metadata": {},
   "outputs": [
    {
     "name": "stdout",
     "output_type": "stream",
     "text": [
      "Help on function fsolve in module scipy.optimize.minpack:\n",
      "\n",
      "fsolve(func, x0, args=(), fprime=None, full_output=0, col_deriv=0, xtol=1.49012e-08, maxfev=0, band=None, epsfcn=None, factor=100, diag=None)\n",
      "    Find the roots of a function.\n",
      "    \n",
      "    Return the roots of the (non-linear) equations defined by\n",
      "    ``func(x) = 0`` given a starting estimate.\n",
      "    \n",
      "    Parameters\n",
      "    ----------\n",
      "    func : callable ``f(x, *args)``\n",
      "        A function that takes at least one (possibly vector) argument.\n",
      "    x0 : ndarray\n",
      "        The starting estimate for the roots of ``func(x) = 0``.\n",
      "    args : tuple, optional\n",
      "        Any extra arguments to `func`.\n",
      "    fprime : callable(x), optional\n",
      "        A function to compute the Jacobian of `func` with derivatives\n",
      "        across the rows. By default, the Jacobian will be estimated.\n",
      "    full_output : bool, optional\n",
      "        If True, return optional outputs.\n",
      "    col_deriv : bool, optional\n",
      "        Specify whether the Jacobian function computes derivatives down\n",
      "        the columns (faster, because there is no transpose operation).\n",
      "    xtol : float, optional\n",
      "        The calculation will terminate if the relative error between two\n",
      "        consecutive iterates is at most `xtol`.\n",
      "    maxfev : int, optional\n",
      "        The maximum number of calls to the function. If zero, then\n",
      "        ``100*(N+1)`` is the maximum where N is the number of elements\n",
      "        in `x0`.\n",
      "    band : tuple, optional\n",
      "        If set to a two-sequence containing the number of sub- and\n",
      "        super-diagonals within the band of the Jacobi matrix, the\n",
      "        Jacobi matrix is considered banded (only for ``fprime=None``).\n",
      "    epsfcn : float, optional\n",
      "        A suitable step length for the forward-difference\n",
      "        approximation of the Jacobian (for ``fprime=None``). If\n",
      "        `epsfcn` is less than the machine precision, it is assumed\n",
      "        that the relative errors in the functions are of the order of\n",
      "        the machine precision.\n",
      "    factor : float, optional\n",
      "        A parameter determining the initial step bound\n",
      "        (``factor * || diag * x||``).  Should be in the interval\n",
      "        ``(0.1, 100)``.\n",
      "    diag : sequence, optional\n",
      "        N positive entries that serve as a scale factors for the\n",
      "        variables.\n",
      "    \n",
      "    Returns\n",
      "    -------\n",
      "    x : ndarray\n",
      "        The solution (or the result of the last iteration for\n",
      "        an unsuccessful call).\n",
      "    infodict : dict\n",
      "        A dictionary of optional outputs with the keys:\n",
      "    \n",
      "        ``nfev``\n",
      "            number of function calls\n",
      "        ``njev``\n",
      "            number of Jacobian calls\n",
      "        ``fvec``\n",
      "            function evaluated at the output\n",
      "        ``fjac``\n",
      "            the orthogonal matrix, q, produced by the QR\n",
      "            factorization of the final approximate Jacobian\n",
      "            matrix, stored column wise\n",
      "        ``r``\n",
      "            upper triangular matrix produced by QR factorization\n",
      "            of the same matrix\n",
      "        ``qtf``\n",
      "            the vector ``(transpose(q) * fvec)``\n",
      "    \n",
      "    ier : int\n",
      "        An integer flag.  Set to 1 if a solution was found, otherwise refer\n",
      "        to `mesg` for more information.\n",
      "    mesg : str\n",
      "        If no solution is found, `mesg` details the cause of failure.\n",
      "    \n",
      "    See Also\n",
      "    --------\n",
      "    root : Interface to root finding algorithms for multivariate\n",
      "    functions. See the 'hybr' `method` in particular.\n",
      "    \n",
      "    Notes\n",
      "    -----\n",
      "    ``fsolve`` is a wrapper around MINPACK's hybrd and hybrj algorithms.\n",
      "\n"
     ]
    }
   ],
   "source": [
    "help(fsolve)"
   ]
  },
  {
   "cell_type": "code",
   "execution_count": 76,
   "metadata": {},
   "outputs": [
    {
     "name": "stdout",
     "output_type": "stream",
     "text": [
      "Matrix([[-x + 0.5*y + 1], [-y - 4.9*sin(x) + 2]])\n"
     ]
    },
    {
     "ename": "TypeError",
     "evalue": "'MutableDenseMatrix' object is not callable",
     "output_type": "error",
     "traceback": [
      "\u001b[1;31m---------------------------------------------------------------------------\u001b[0m",
      "\u001b[1;31mTypeError\u001b[0m                                 Traceback (most recent call last)",
      "\u001b[1;32m<ipython-input-76-8bdf2e73970e>\u001b[0m in \u001b[0;36m<module>\u001b[1;34m()\u001b[0m\n\u001b[0;32m     15\u001b[0m \u001b[0mvv\u001b[0m\u001b[1;33m[\u001b[0m\u001b[1;36m0\u001b[0m\u001b[1;33m]\u001b[0m\u001b[1;33m=\u001b[0m\u001b[1;36m2\u001b[0m\u001b[1;33m\u001b[0m\u001b[0m\n\u001b[0;32m     16\u001b[0m \u001b[0mprint\u001b[0m\u001b[1;33m(\u001b[0m\u001b[0mmyFunction\u001b[0m\u001b[1;33m(\u001b[0m\u001b[1;36m1\u001b[0m\u001b[1;33m,\u001b[0m\u001b[1;36m2\u001b[0m\u001b[1;33m)\u001b[0m\u001b[1;33m)\u001b[0m\u001b[1;33m\u001b[0m\u001b[0m\n\u001b[1;32m---> 17\u001b[1;33m \u001b[0mplot\u001b[0m\u001b[1;33m(\u001b[0m\u001b[0mfsolve\u001b[0m\u001b[1;33m(\u001b[0m\u001b[0mmyFunction\u001b[0m\u001b[1;33m(\u001b[0m\u001b[1;36m1\u001b[0m\u001b[1;33m,\u001b[0m\u001b[1;36m2\u001b[0m\u001b[1;33m)\u001b[0m\u001b[1;33m,\u001b[0m\u001b[1;33m[\u001b[0m\u001b[1;36m1\u001b[0m\u001b[1;33m,\u001b[0m\u001b[1;36m1\u001b[0m\u001b[1;33m]\u001b[0m\u001b[1;33m)\u001b[0m\u001b[1;33m)\u001b[0m\u001b[1;33m\u001b[0m\u001b[0m\n\u001b[0m\u001b[0;32m     18\u001b[0m \u001b[1;33m\u001b[0m\u001b[0m\n\u001b[0;32m     19\u001b[0m \u001b[0mpylab\u001b[0m\u001b[1;33m.\u001b[0m\u001b[0mplot\u001b[0m\u001b[1;33m(\u001b[0m\u001b[0mqq\u001b[0m\u001b[1;33m,\u001b[0m\u001b[0mvv\u001b[0m\u001b[1;33m)\u001b[0m\u001b[1;33m\u001b[0m\u001b[0m\n",
      "\u001b[1;32mD:\\ProgramData\\Anaconda3\\lib\\site-packages\\scipy\\optimize\\minpack.py\u001b[0m in \u001b[0;36mfsolve\u001b[1;34m(func, x0, args, fprime, full_output, col_deriv, xtol, maxfev, band, epsfcn, factor, diag)\u001b[0m\n\u001b[0;32m    144\u001b[0m                'diag': diag}\n\u001b[0;32m    145\u001b[0m \u001b[1;33m\u001b[0m\u001b[0m\n\u001b[1;32m--> 146\u001b[1;33m     \u001b[0mres\u001b[0m \u001b[1;33m=\u001b[0m \u001b[0m_root_hybr\u001b[0m\u001b[1;33m(\u001b[0m\u001b[0mfunc\u001b[0m\u001b[1;33m,\u001b[0m \u001b[0mx0\u001b[0m\u001b[1;33m,\u001b[0m \u001b[0margs\u001b[0m\u001b[1;33m,\u001b[0m \u001b[0mjac\u001b[0m\u001b[1;33m=\u001b[0m\u001b[0mfprime\u001b[0m\u001b[1;33m,\u001b[0m \u001b[1;33m**\u001b[0m\u001b[0moptions\u001b[0m\u001b[1;33m)\u001b[0m\u001b[1;33m\u001b[0m\u001b[0m\n\u001b[0m\u001b[0;32m    147\u001b[0m     \u001b[1;32mif\u001b[0m \u001b[0mfull_output\u001b[0m\u001b[1;33m:\u001b[0m\u001b[1;33m\u001b[0m\u001b[0m\n\u001b[0;32m    148\u001b[0m         \u001b[0mx\u001b[0m \u001b[1;33m=\u001b[0m \u001b[0mres\u001b[0m\u001b[1;33m[\u001b[0m\u001b[1;34m'x'\u001b[0m\u001b[1;33m]\u001b[0m\u001b[1;33m\u001b[0m\u001b[0m\n",
      "\u001b[1;32mD:\\ProgramData\\Anaconda3\\lib\\site-packages\\scipy\\optimize\\minpack.py\u001b[0m in \u001b[0;36m_root_hybr\u001b[1;34m(func, x0, args, jac, col_deriv, xtol, maxfev, band, eps, factor, diag, **unknown_options)\u001b[0m\n\u001b[0;32m    210\u001b[0m     \u001b[1;32mif\u001b[0m \u001b[1;32mnot\u001b[0m \u001b[0misinstance\u001b[0m\u001b[1;33m(\u001b[0m\u001b[0margs\u001b[0m\u001b[1;33m,\u001b[0m \u001b[0mtuple\u001b[0m\u001b[1;33m)\u001b[0m\u001b[1;33m:\u001b[0m\u001b[1;33m\u001b[0m\u001b[0m\n\u001b[0;32m    211\u001b[0m         \u001b[0margs\u001b[0m \u001b[1;33m=\u001b[0m \u001b[1;33m(\u001b[0m\u001b[0margs\u001b[0m\u001b[1;33m,\u001b[0m\u001b[1;33m)\u001b[0m\u001b[1;33m\u001b[0m\u001b[0m\n\u001b[1;32m--> 212\u001b[1;33m     \u001b[0mshape\u001b[0m\u001b[1;33m,\u001b[0m \u001b[0mdtype\u001b[0m \u001b[1;33m=\u001b[0m \u001b[0m_check_func\u001b[0m\u001b[1;33m(\u001b[0m\u001b[1;34m'fsolve'\u001b[0m\u001b[1;33m,\u001b[0m \u001b[1;34m'func'\u001b[0m\u001b[1;33m,\u001b[0m \u001b[0mfunc\u001b[0m\u001b[1;33m,\u001b[0m \u001b[0mx0\u001b[0m\u001b[1;33m,\u001b[0m \u001b[0margs\u001b[0m\u001b[1;33m,\u001b[0m \u001b[0mn\u001b[0m\u001b[1;33m,\u001b[0m \u001b[1;33m(\u001b[0m\u001b[0mn\u001b[0m\u001b[1;33m,\u001b[0m\u001b[1;33m)\u001b[0m\u001b[1;33m)\u001b[0m\u001b[1;33m\u001b[0m\u001b[0m\n\u001b[0m\u001b[0;32m    213\u001b[0m     \u001b[1;32mif\u001b[0m \u001b[0mepsfcn\u001b[0m \u001b[1;32mis\u001b[0m \u001b[1;32mNone\u001b[0m\u001b[1;33m:\u001b[0m\u001b[1;33m\u001b[0m\u001b[0m\n\u001b[0;32m    214\u001b[0m         \u001b[0mepsfcn\u001b[0m \u001b[1;33m=\u001b[0m \u001b[0mfinfo\u001b[0m\u001b[1;33m(\u001b[0m\u001b[0mdtype\u001b[0m\u001b[1;33m)\u001b[0m\u001b[1;33m.\u001b[0m\u001b[0meps\u001b[0m\u001b[1;33m\u001b[0m\u001b[0m\n",
      "\u001b[1;32mD:\\ProgramData\\Anaconda3\\lib\\site-packages\\scipy\\optimize\\minpack.py\u001b[0m in \u001b[0;36m_check_func\u001b[1;34m(checker, argname, thefunc, x0, args, numinputs, output_shape)\u001b[0m\n\u001b[0;32m     24\u001b[0m def _check_func(checker, argname, thefunc, x0, args, numinputs,\n\u001b[0;32m     25\u001b[0m                 output_shape=None):\n\u001b[1;32m---> 26\u001b[1;33m     \u001b[0mres\u001b[0m \u001b[1;33m=\u001b[0m \u001b[0matleast_1d\u001b[0m\u001b[1;33m(\u001b[0m\u001b[0mthefunc\u001b[0m\u001b[1;33m(\u001b[0m\u001b[1;33m*\u001b[0m\u001b[1;33m(\u001b[0m\u001b[1;33m(\u001b[0m\u001b[0mx0\u001b[0m\u001b[1;33m[\u001b[0m\u001b[1;33m:\u001b[0m\u001b[0mnuminputs\u001b[0m\u001b[1;33m]\u001b[0m\u001b[1;33m,\u001b[0m\u001b[1;33m)\u001b[0m \u001b[1;33m+\u001b[0m \u001b[0margs\u001b[0m\u001b[1;33m)\u001b[0m\u001b[1;33m)\u001b[0m\u001b[1;33m)\u001b[0m\u001b[1;33m\u001b[0m\u001b[0m\n\u001b[0m\u001b[0;32m     27\u001b[0m     \u001b[1;32mif\u001b[0m \u001b[1;33m(\u001b[0m\u001b[0moutput_shape\u001b[0m \u001b[1;32mis\u001b[0m \u001b[1;32mnot\u001b[0m \u001b[1;32mNone\u001b[0m\u001b[1;33m)\u001b[0m \u001b[1;32mand\u001b[0m \u001b[1;33m(\u001b[0m\u001b[0mshape\u001b[0m\u001b[1;33m(\u001b[0m\u001b[0mres\u001b[0m\u001b[1;33m)\u001b[0m \u001b[1;33m!=\u001b[0m \u001b[0moutput_shape\u001b[0m\u001b[1;33m)\u001b[0m\u001b[1;33m:\u001b[0m\u001b[1;33m\u001b[0m\u001b[0m\n\u001b[0;32m     28\u001b[0m         \u001b[1;32mif\u001b[0m \u001b[1;33m(\u001b[0m\u001b[0moutput_shape\u001b[0m\u001b[1;33m[\u001b[0m\u001b[1;36m0\u001b[0m\u001b[1;33m]\u001b[0m \u001b[1;33m!=\u001b[0m \u001b[1;36m1\u001b[0m\u001b[1;33m)\u001b[0m\u001b[1;33m:\u001b[0m\u001b[1;33m\u001b[0m\u001b[0m\n",
      "\u001b[1;31mTypeError\u001b[0m: 'MutableDenseMatrix' object is not callable"
     ]
    }
   ],
   "source": [
    "#implicit Euler method\n",
    "def myFunction(a, b):\n",
    "    g=9.8\n",
    "    h=0.5\n",
    "    l=1\n",
    "    F = zeros((2),(1))\n",
    "    F[0] = -x+a+h*y\n",
    "    F[1] = -y+b-h*g/l*sin(x)\n",
    "    return F\n",
    "\n",
    "N=10\n",
    "qq=np.zeros((N+1,1))\n",
    "vv=np.zeros((N+1,1))\n",
    "qq[0]=1\n",
    "vv[0]=2\n",
    "print(myFunction(1,2))\n",
    "plot(fsolve(myFunction(1,2),[1,1]))\n",
    "def newtonRaphson(equation, initialGuess, noIteration):\n",
    "    #equation(initialGuss)-equationDirevative+step\n",
    "    nextGuess=nextGuess-\n",
    "    #Jacobian(equation,point,step)\n",
    "    Jacobian[i,j}=equation(point+step*e[j])[]-feuqation\n",
    "    #计算残值\n",
    "    residual=equation(guess)\n",
    "    guess=residual/diff(euation(guess),guess)+guess\n",
    "             diff(equation(guess))=equation(guess+h)-equation(guess)\n",
    "def Gradient(function):\n",
    "    #变量个数 n\n",
    "    \n",
    "pylab.plot(qq,vv)\n",
    "pylab.show()"
   ]
  },
  {
   "cell_type": "code",
   "execution_count": null,
   "metadata": {
    "collapsed": true
   },
   "outputs": [],
   "source": [
    "\n",
    "##for k in range(0, N):\n",
    "    zGuess = ones(2, 1)\n",
    "    a=1\n",
    "    b=2\n",
    "    print(myFunction(a, b))\n",
    "    print(newton(myFunction(qq[k],vv[k]),zGuess))"
   ]
  },
  {
   "cell_type": "code",
   "execution_count": 66,
   "metadata": {},
   "outputs": [
    {
     "data": {
      "image/png": "[encoded data removed]",
      "text/plain": [
       "<matplotlib.figure.Figure at 0xb794128>"
      ]
     },
     "metadata": {},
     "output_type": "display_data"
    }
   ],
   "source": [
    "#symplectic Euler method\n",
    "N=10\n",
    "qq=zeros(N+1,1)\n",
    "vv=zeros(N+1,1)\n",
    "qq[0]=1\n",
    "vv[0]=2\n",
    "g=9.8\n",
    "h=0.1\n",
    "l=1\n",
    "for k in range(0,N):\n",
    "    vv[k+1]=vv[k]-h*g/l*sin(qq[k])\n",
    "    qq[k+1]=qq[k]+h*vv[k+1]\n",
    "pylab.plot(qq,vv)\n",
    "pylab.show()"
   ]
  },
  {
   "cell_type": "code",
   "execution_count": null,
   "metadata": {},
   "outputs": [],
   "source": [
    "#symplectic Euler method\n",
    "N=20\n",
    "qq=zeros(N+1,1)\n",
    "vv=zeros(N+1,1)\n",
    "qq[0]=1\n",
    "vv[0]=2\n",
    "g=9.8\n",
    "h=0.1\n",
    "l=1\n",
    "for k in range(0,N):\n",
    "    vv[k+1]=vv[k]-h*g/l*sin(qq[k])\n",
    "    qq[k+1]=qq[k]+h*vv[k+1]\n",
    "pylab.plot(qq,vv)\n",
    "pylab.show()"
   ]
  },
  {
   "cell_type": "markdown",
   "metadata": {},
   "source": [
    "隐式方程如何求解？\n",
    "在相空间的升级法则？"
   ]
  },
  {
   "cell_type": "code",
   "execution_count": null,
   "metadata": {},
   "outputs": [],
   "source": [
    "p_k=diff(DiscreteLagrangian(q,k,h,alpha),q(k))\n",
    "print(p_k)"
   ]
  },
  {
   "cell_type": "markdown",
   "metadata": {},
   "source": [
    "增加耗散项"
   ]
  },
  {
   "cell_type": "code",
   "execution_count": null,
   "metadata": {
    "collapsed": true
   },
   "outputs": [],
   "source": []
  }
 ],
 "metadata": {
  "kernelspec": {
   "display_name": "Python 3",
   "language": "python",
   "name": "python3"
  },
  "language_info": {
   "codemirror_mode": {
    "name": "ipython",
    "version": 3
   },
   "file_extension": ".py",
   "mimetype": "text/x-python",
   "name": "python",
   "nbconvert_exporter": "python",
   "pygments_lexer": "ipython3",
   "version": "3.6.2"
  }
 },
 "nbformat": 4,
 "nbformat_minor": 2
}
